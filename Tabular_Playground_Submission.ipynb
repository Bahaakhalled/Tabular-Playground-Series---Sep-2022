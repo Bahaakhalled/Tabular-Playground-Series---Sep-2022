{
  "nbformat": 4,
  "nbformat_minor": 0,
  "metadata": {
    "colab": {
      "provenance": [],
      "collapsed_sections": [],
      "authorship_tag": "ABX9TyNZhHBIE2UQWD1nRTe8KcnY",
      "include_colab_link": true
    },
    "kernelspec": {
      "name": "python3",
      "display_name": "Python 3"
    },
    "language_info": {
      "name": "python"
    },
    "accelerator": "GPU",
    "gpuClass": "standard"
  },
  "cells": [
    {
      "cell_type": "markdown",
      "metadata": {
        "id": "view-in-github",
        "colab_type": "text"
      },
      "source": [
        "<a href=\"https://colab.research.google.com/github/Bahaakhalled/Tabular-Playground-Series---Sep-2022/blob/main/Tabular_Playground_Submission.ipynb\" target=\"_parent\"><img src=\"https://colab.research.google.com/assets/colab-badge.svg\" alt=\"Open In Colab\"/></a>"
      ]
    },
    {
      "cell_type": "code",
      "execution_count": 369,
      "metadata": {
        "id": "E2nkI24ANNdL"
      },
      "outputs": [],
      "source": [
        "import pandas as pd\n",
        "import numpy as np\n",
        "from pathlib import Path\n",
        "import matplotlib.pyplot as plt\n",
        "import seaborn as sns"
      ]
    },
    {
      "cell_type": "code",
      "source": [
        "!pip install matplotlib --upgrade"
      ],
      "metadata": {
        "colab": {
          "base_uri": "https://localhost:8080/"
        },
        "id": "sWjGEpOkTVBs",
        "outputId": "55fbd5fa-9139-411e-90b8-6f604383a1e6"
      },
      "execution_count": 370,
      "outputs": [
        {
          "output_type": "stream",
          "name": "stdout",
          "text": [
            "Looking in indexes: https://pypi.org/simple, https://us-python.pkg.dev/colab-wheels/public/simple/\n",
            "Requirement already satisfied: matplotlib in /usr/local/lib/python3.7/dist-packages (3.5.3)\n",
            "Requirement already satisfied: packaging>=20.0 in /usr/local/lib/python3.7/dist-packages (from matplotlib) (21.3)\n",
            "Requirement already satisfied: pillow>=6.2.0 in /usr/local/lib/python3.7/dist-packages (from matplotlib) (7.1.2)\n",
            "Requirement already satisfied: cycler>=0.10 in /usr/local/lib/python3.7/dist-packages (from matplotlib) (0.11.0)\n",
            "Requirement already satisfied: pyparsing>=2.2.1 in /usr/local/lib/python3.7/dist-packages (from matplotlib) (3.0.9)\n",
            "Requirement already satisfied: kiwisolver>=1.0.1 in /usr/local/lib/python3.7/dist-packages (from matplotlib) (1.4.4)\n",
            "Requirement already satisfied: python-dateutil>=2.7 in /usr/local/lib/python3.7/dist-packages (from matplotlib) (2.8.2)\n",
            "Requirement already satisfied: numpy>=1.17 in /usr/local/lib/python3.7/dist-packages (from matplotlib) (1.21.6)\n",
            "Requirement already satisfied: fonttools>=4.22.0 in /usr/local/lib/python3.7/dist-packages (from matplotlib) (4.37.1)\n",
            "Requirement already satisfied: typing-extensions in /usr/local/lib/python3.7/dist-packages (from kiwisolver>=1.0.1->matplotlib) (4.1.1)\n",
            "Requirement already satisfied: six>=1.5 in /usr/local/lib/python3.7/dist-packages (from python-dateutil>=2.7->matplotlib) (1.15.0)\n"
          ]
        }
      ]
    },
    {
      "cell_type": "code",
      "source": [
        "my_file = Path(\"train.csv\")\n",
        "if my_file.is_file()==False:\n",
        "  !wget 'https://raw.githubusercontent.com/Bahaakhalled/Tabular-Playground-Series---Sep-2022/main/train.csv'\n",
        "  !wget 'https://raw.githubusercontent.com/Bahaakhalled/Tabular-Playground-Series---Sep-2022/main/test.csv'"
      ],
      "metadata": {
        "id": "anrv6BU7NimU"
      },
      "execution_count": 371,
      "outputs": []
    },
    {
      "cell_type": "code",
      "source": [
        "tab=pd.read_csv('train.csv')\n",
        "tab.head()"
      ],
      "metadata": {
        "colab": {
          "base_uri": "https://localhost:8080/",
          "height": 206
        },
        "id": "A4A6CseBN-7B",
        "outputId": "768b04d3-fc49-45a4-8c9e-50bc75b86252"
      },
      "execution_count": 372,
      "outputs": [
        {
          "output_type": "execute_result",
          "data": {
            "text/plain": [
              "   row_id        date  country       store                           product  \\\n",
              "0       0  2017-01-01  Belgium  KaggleMart        Kaggle Advanced Techniques   \n",
              "1       1  2017-01-01  Belgium  KaggleMart            Kaggle Getting Started   \n",
              "2       2  2017-01-01  Belgium  KaggleMart                Kaggle Recipe Book   \n",
              "3       3  2017-01-01  Belgium  KaggleMart  Kaggle for Kids: One Smart Goose   \n",
              "4       4  2017-01-01  Belgium  KaggleRama        Kaggle Advanced Techniques   \n",
              "\n",
              "   num_sold  \n",
              "0       663  \n",
              "1       615  \n",
              "2       480  \n",
              "3       710  \n",
              "4       240  "
            ],
            "text/html": [
              "\n",
              "  <div id=\"df-f1a14f58-60d6-4585-8d12-6ab7f5be4eb1\">\n",
              "    <div class=\"colab-df-container\">\n",
              "      <div>\n",
              "<style scoped>\n",
              "    .dataframe tbody tr th:only-of-type {\n",
              "        vertical-align: middle;\n",
              "    }\n",
              "\n",
              "    .dataframe tbody tr th {\n",
              "        vertical-align: top;\n",
              "    }\n",
              "\n",
              "    .dataframe thead th {\n",
              "        text-align: right;\n",
              "    }\n",
              "</style>\n",
              "<table border=\"1\" class=\"dataframe\">\n",
              "  <thead>\n",
              "    <tr style=\"text-align: right;\">\n",
              "      <th></th>\n",
              "      <th>row_id</th>\n",
              "      <th>date</th>\n",
              "      <th>country</th>\n",
              "      <th>store</th>\n",
              "      <th>product</th>\n",
              "      <th>num_sold</th>\n",
              "    </tr>\n",
              "  </thead>\n",
              "  <tbody>\n",
              "    <tr>\n",
              "      <th>0</th>\n",
              "      <td>0</td>\n",
              "      <td>2017-01-01</td>\n",
              "      <td>Belgium</td>\n",
              "      <td>KaggleMart</td>\n",
              "      <td>Kaggle Advanced Techniques</td>\n",
              "      <td>663</td>\n",
              "    </tr>\n",
              "    <tr>\n",
              "      <th>1</th>\n",
              "      <td>1</td>\n",
              "      <td>2017-01-01</td>\n",
              "      <td>Belgium</td>\n",
              "      <td>KaggleMart</td>\n",
              "      <td>Kaggle Getting Started</td>\n",
              "      <td>615</td>\n",
              "    </tr>\n",
              "    <tr>\n",
              "      <th>2</th>\n",
              "      <td>2</td>\n",
              "      <td>2017-01-01</td>\n",
              "      <td>Belgium</td>\n",
              "      <td>KaggleMart</td>\n",
              "      <td>Kaggle Recipe Book</td>\n",
              "      <td>480</td>\n",
              "    </tr>\n",
              "    <tr>\n",
              "      <th>3</th>\n",
              "      <td>3</td>\n",
              "      <td>2017-01-01</td>\n",
              "      <td>Belgium</td>\n",
              "      <td>KaggleMart</td>\n",
              "      <td>Kaggle for Kids: One Smart Goose</td>\n",
              "      <td>710</td>\n",
              "    </tr>\n",
              "    <tr>\n",
              "      <th>4</th>\n",
              "      <td>4</td>\n",
              "      <td>2017-01-01</td>\n",
              "      <td>Belgium</td>\n",
              "      <td>KaggleRama</td>\n",
              "      <td>Kaggle Advanced Techniques</td>\n",
              "      <td>240</td>\n",
              "    </tr>\n",
              "  </tbody>\n",
              "</table>\n",
              "</div>\n",
              "      <button class=\"colab-df-convert\" onclick=\"convertToInteractive('df-f1a14f58-60d6-4585-8d12-6ab7f5be4eb1')\"\n",
              "              title=\"Convert this dataframe to an interactive table.\"\n",
              "              style=\"display:none;\">\n",
              "        \n",
              "  <svg xmlns=\"http://www.w3.org/2000/svg\" height=\"24px\"viewBox=\"0 0 24 24\"\n",
              "       width=\"24px\">\n",
              "    <path d=\"M0 0h24v24H0V0z\" fill=\"none\"/>\n",
              "    <path d=\"M18.56 5.44l.94 2.06.94-2.06 2.06-.94-2.06-.94-.94-2.06-.94 2.06-2.06.94zm-11 1L8.5 8.5l.94-2.06 2.06-.94-2.06-.94L8.5 2.5l-.94 2.06-2.06.94zm10 10l.94 2.06.94-2.06 2.06-.94-2.06-.94-.94-2.06-.94 2.06-2.06.94z\"/><path d=\"M17.41 7.96l-1.37-1.37c-.4-.4-.92-.59-1.43-.59-.52 0-1.04.2-1.43.59L10.3 9.45l-7.72 7.72c-.78.78-.78 2.05 0 2.83L4 21.41c.39.39.9.59 1.41.59.51 0 1.02-.2 1.41-.59l7.78-7.78 2.81-2.81c.8-.78.8-2.07 0-2.86zM5.41 20L4 18.59l7.72-7.72 1.47 1.35L5.41 20z\"/>\n",
              "  </svg>\n",
              "      </button>\n",
              "      \n",
              "  <style>\n",
              "    .colab-df-container {\n",
              "      display:flex;\n",
              "      flex-wrap:wrap;\n",
              "      gap: 12px;\n",
              "    }\n",
              "\n",
              "    .colab-df-convert {\n",
              "      background-color: #E8F0FE;\n",
              "      border: none;\n",
              "      border-radius: 50%;\n",
              "      cursor: pointer;\n",
              "      display: none;\n",
              "      fill: #1967D2;\n",
              "      height: 32px;\n",
              "      padding: 0 0 0 0;\n",
              "      width: 32px;\n",
              "    }\n",
              "\n",
              "    .colab-df-convert:hover {\n",
              "      background-color: #E2EBFA;\n",
              "      box-shadow: 0px 1px 2px rgba(60, 64, 67, 0.3), 0px 1px 3px 1px rgba(60, 64, 67, 0.15);\n",
              "      fill: #174EA6;\n",
              "    }\n",
              "\n",
              "    [theme=dark] .colab-df-convert {\n",
              "      background-color: #3B4455;\n",
              "      fill: #D2E3FC;\n",
              "    }\n",
              "\n",
              "    [theme=dark] .colab-df-convert:hover {\n",
              "      background-color: #434B5C;\n",
              "      box-shadow: 0px 1px 3px 1px rgba(0, 0, 0, 0.15);\n",
              "      filter: drop-shadow(0px 1px 2px rgba(0, 0, 0, 0.3));\n",
              "      fill: #FFFFFF;\n",
              "    }\n",
              "  </style>\n",
              "\n",
              "      <script>\n",
              "        const buttonEl =\n",
              "          document.querySelector('#df-f1a14f58-60d6-4585-8d12-6ab7f5be4eb1 button.colab-df-convert');\n",
              "        buttonEl.style.display =\n",
              "          google.colab.kernel.accessAllowed ? 'block' : 'none';\n",
              "\n",
              "        async function convertToInteractive(key) {\n",
              "          const element = document.querySelector('#df-f1a14f58-60d6-4585-8d12-6ab7f5be4eb1');\n",
              "          const dataTable =\n",
              "            await google.colab.kernel.invokeFunction('convertToInteractive',\n",
              "                                                     [key], {});\n",
              "          if (!dataTable) return;\n",
              "\n",
              "          const docLinkHtml = 'Like what you see? Visit the ' +\n",
              "            '<a target=\"_blank\" href=https://colab.research.google.com/notebooks/data_table.ipynb>data table notebook</a>'\n",
              "            + ' to learn more about interactive tables.';\n",
              "          element.innerHTML = '';\n",
              "          dataTable['output_type'] = 'display_data';\n",
              "          await google.colab.output.renderOutput(dataTable, element);\n",
              "          const docLink = document.createElement('div');\n",
              "          docLink.innerHTML = docLinkHtml;\n",
              "          element.appendChild(docLink);\n",
              "        }\n",
              "      </script>\n",
              "    </div>\n",
              "  </div>\n",
              "  "
            ]
          },
          "metadata": {},
          "execution_count": 372
        }
      ]
    },
    {
      "cell_type": "code",
      "source": [
        "tab.info()"
      ],
      "metadata": {
        "colab": {
          "base_uri": "https://localhost:8080/"
        },
        "id": "-PvbxtXdOPGc",
        "outputId": "5df0c083-2835-4151-8a30-62ae5753dc3b"
      },
      "execution_count": 373,
      "outputs": [
        {
          "output_type": "stream",
          "name": "stdout",
          "text": [
            "<class 'pandas.core.frame.DataFrame'>\n",
            "RangeIndex: 65490 entries, 0 to 65489\n",
            "Data columns (total 6 columns):\n",
            " #   Column    Non-Null Count  Dtype \n",
            "---  ------    --------------  ----- \n",
            " 0   row_id    65490 non-null  int64 \n",
            " 1   date      65490 non-null  object\n",
            " 2   country   65490 non-null  object\n",
            " 3   store     65490 non-null  object\n",
            " 4   product   65490 non-null  object\n",
            " 5   num_sold  65490 non-null  int64 \n",
            "dtypes: int64(2), object(4)\n",
            "memory usage: 3.0+ MB\n"
          ]
        }
      ]
    },
    {
      "cell_type": "code",
      "source": [
        "tab.nunique()"
      ],
      "metadata": {
        "colab": {
          "base_uri": "https://localhost:8080/"
        },
        "id": "5Sp1eDd0OR3g",
        "outputId": "a2bb58b3-52dd-49d4-8a1f-daea4c2ffa00"
      },
      "execution_count": 374,
      "outputs": [
        {
          "output_type": "execute_result",
          "data": {
            "text/plain": [
              "row_id      65490\n",
              "date         1365\n",
              "country         6\n",
              "store           2\n",
              "product         4\n",
              "num_sold      677\n",
              "dtype: int64"
            ]
          },
          "metadata": {},
          "execution_count": 374
        }
      ]
    },
    {
      "cell_type": "code",
      "source": [
        "ctab=tab.copy()"
      ],
      "metadata": {
        "id": "mx03-M9qOrC4"
      },
      "execution_count": 375,
      "outputs": []
    },
    {
      "cell_type": "code",
      "source": [
        "ctab['date']=pd.to_datetime(ctab['date'], utc=False)"
      ],
      "metadata": {
        "id": "xK5Fls6YOvxL"
      },
      "execution_count": 376,
      "outputs": []
    },
    {
      "cell_type": "code",
      "source": [
        "ctab.describe(include='all')"
      ],
      "metadata": {
        "colab": {
          "base_uri": "https://localhost:8080/",
          "height": 514
        },
        "id": "GNkJGdmYOVv4",
        "outputId": "d3701287-bd4c-4280-fa33-7491411be6ee"
      },
      "execution_count": 377,
      "outputs": [
        {
          "output_type": "stream",
          "name": "stderr",
          "text": [
            "/usr/local/lib/python3.7/dist-packages/ipykernel_launcher.py:1: FutureWarning: Treating datetime data as categorical rather than numeric in `.describe` is deprecated and will be removed in a future version of pandas. Specify `datetime_is_numeric=True` to silence this warning and adopt the future behavior now.\n",
            "  \"\"\"Entry point for launching an IPython kernel.\n"
          ]
        },
        {
          "output_type": "execute_result",
          "data": {
            "text/plain": [
              "              row_id                 date  country       store  \\\n",
              "count   65490.000000                65490    65490       65490   \n",
              "unique           NaN                 1365        6           2   \n",
              "top              NaN  2017-01-01 00:00:00  Belgium  KaggleMart   \n",
              "freq             NaN                   48    10920       32746   \n",
              "first            NaN  2017-01-01 00:00:00      NaN         NaN   \n",
              "last             NaN  2020-09-26 00:00:00      NaN         NaN   \n",
              "mean    32744.500000                  NaN      NaN         NaN   \n",
              "std     18905.478902                  NaN      NaN         NaN   \n",
              "min         0.000000                  NaN      NaN         NaN   \n",
              "25%     16372.250000                  NaN      NaN         NaN   \n",
              "50%     32744.500000                  NaN      NaN         NaN   \n",
              "75%     49116.750000                  NaN      NaN         NaN   \n",
              "max     65489.000000                  NaN      NaN         NaN   \n",
              "\n",
              "                           product      num_sold  \n",
              "count                        65490  65490.000000  \n",
              "unique                           4           NaN  \n",
              "top     Kaggle Advanced Techniques           NaN  \n",
              "freq                         16373           NaN  \n",
              "first                          NaN           NaN  \n",
              "last                           NaN           NaN  \n",
              "mean                           NaN    191.522110  \n",
              "std                            NaN    126.149754  \n",
              "min                            NaN      3.000000  \n",
              "25%                            NaN     93.000000  \n",
              "50%                            NaN    147.000000  \n",
              "75%                            NaN    278.000000  \n",
              "max                            NaN    986.000000  "
            ],
            "text/html": [
              "\n",
              "  <div id=\"df-441ac1ac-1847-4460-8cff-dcf91b598339\">\n",
              "    <div class=\"colab-df-container\">\n",
              "      <div>\n",
              "<style scoped>\n",
              "    .dataframe tbody tr th:only-of-type {\n",
              "        vertical-align: middle;\n",
              "    }\n",
              "\n",
              "    .dataframe tbody tr th {\n",
              "        vertical-align: top;\n",
              "    }\n",
              "\n",
              "    .dataframe thead th {\n",
              "        text-align: right;\n",
              "    }\n",
              "</style>\n",
              "<table border=\"1\" class=\"dataframe\">\n",
              "  <thead>\n",
              "    <tr style=\"text-align: right;\">\n",
              "      <th></th>\n",
              "      <th>row_id</th>\n",
              "      <th>date</th>\n",
              "      <th>country</th>\n",
              "      <th>store</th>\n",
              "      <th>product</th>\n",
              "      <th>num_sold</th>\n",
              "    </tr>\n",
              "  </thead>\n",
              "  <tbody>\n",
              "    <tr>\n",
              "      <th>count</th>\n",
              "      <td>65490.000000</td>\n",
              "      <td>65490</td>\n",
              "      <td>65490</td>\n",
              "      <td>65490</td>\n",
              "      <td>65490</td>\n",
              "      <td>65490.000000</td>\n",
              "    </tr>\n",
              "    <tr>\n",
              "      <th>unique</th>\n",
              "      <td>NaN</td>\n",
              "      <td>1365</td>\n",
              "      <td>6</td>\n",
              "      <td>2</td>\n",
              "      <td>4</td>\n",
              "      <td>NaN</td>\n",
              "    </tr>\n",
              "    <tr>\n",
              "      <th>top</th>\n",
              "      <td>NaN</td>\n",
              "      <td>2017-01-01 00:00:00</td>\n",
              "      <td>Belgium</td>\n",
              "      <td>KaggleMart</td>\n",
              "      <td>Kaggle Advanced Techniques</td>\n",
              "      <td>NaN</td>\n",
              "    </tr>\n",
              "    <tr>\n",
              "      <th>freq</th>\n",
              "      <td>NaN</td>\n",
              "      <td>48</td>\n",
              "      <td>10920</td>\n",
              "      <td>32746</td>\n",
              "      <td>16373</td>\n",
              "      <td>NaN</td>\n",
              "    </tr>\n",
              "    <tr>\n",
              "      <th>first</th>\n",
              "      <td>NaN</td>\n",
              "      <td>2017-01-01 00:00:00</td>\n",
              "      <td>NaN</td>\n",
              "      <td>NaN</td>\n",
              "      <td>NaN</td>\n",
              "      <td>NaN</td>\n",
              "    </tr>\n",
              "    <tr>\n",
              "      <th>last</th>\n",
              "      <td>NaN</td>\n",
              "      <td>2020-09-26 00:00:00</td>\n",
              "      <td>NaN</td>\n",
              "      <td>NaN</td>\n",
              "      <td>NaN</td>\n",
              "      <td>NaN</td>\n",
              "    </tr>\n",
              "    <tr>\n",
              "      <th>mean</th>\n",
              "      <td>32744.500000</td>\n",
              "      <td>NaN</td>\n",
              "      <td>NaN</td>\n",
              "      <td>NaN</td>\n",
              "      <td>NaN</td>\n",
              "      <td>191.522110</td>\n",
              "    </tr>\n",
              "    <tr>\n",
              "      <th>std</th>\n",
              "      <td>18905.478902</td>\n",
              "      <td>NaN</td>\n",
              "      <td>NaN</td>\n",
              "      <td>NaN</td>\n",
              "      <td>NaN</td>\n",
              "      <td>126.149754</td>\n",
              "    </tr>\n",
              "    <tr>\n",
              "      <th>min</th>\n",
              "      <td>0.000000</td>\n",
              "      <td>NaN</td>\n",
              "      <td>NaN</td>\n",
              "      <td>NaN</td>\n",
              "      <td>NaN</td>\n",
              "      <td>3.000000</td>\n",
              "    </tr>\n",
              "    <tr>\n",
              "      <th>25%</th>\n",
              "      <td>16372.250000</td>\n",
              "      <td>NaN</td>\n",
              "      <td>NaN</td>\n",
              "      <td>NaN</td>\n",
              "      <td>NaN</td>\n",
              "      <td>93.000000</td>\n",
              "    </tr>\n",
              "    <tr>\n",
              "      <th>50%</th>\n",
              "      <td>32744.500000</td>\n",
              "      <td>NaN</td>\n",
              "      <td>NaN</td>\n",
              "      <td>NaN</td>\n",
              "      <td>NaN</td>\n",
              "      <td>147.000000</td>\n",
              "    </tr>\n",
              "    <tr>\n",
              "      <th>75%</th>\n",
              "      <td>49116.750000</td>\n",
              "      <td>NaN</td>\n",
              "      <td>NaN</td>\n",
              "      <td>NaN</td>\n",
              "      <td>NaN</td>\n",
              "      <td>278.000000</td>\n",
              "    </tr>\n",
              "    <tr>\n",
              "      <th>max</th>\n",
              "      <td>65489.000000</td>\n",
              "      <td>NaN</td>\n",
              "      <td>NaN</td>\n",
              "      <td>NaN</td>\n",
              "      <td>NaN</td>\n",
              "      <td>986.000000</td>\n",
              "    </tr>\n",
              "  </tbody>\n",
              "</table>\n",
              "</div>\n",
              "      <button class=\"colab-df-convert\" onclick=\"convertToInteractive('df-441ac1ac-1847-4460-8cff-dcf91b598339')\"\n",
              "              title=\"Convert this dataframe to an interactive table.\"\n",
              "              style=\"display:none;\">\n",
              "        \n",
              "  <svg xmlns=\"http://www.w3.org/2000/svg\" height=\"24px\"viewBox=\"0 0 24 24\"\n",
              "       width=\"24px\">\n",
              "    <path d=\"M0 0h24v24H0V0z\" fill=\"none\"/>\n",
              "    <path d=\"M18.56 5.44l.94 2.06.94-2.06 2.06-.94-2.06-.94-.94-2.06-.94 2.06-2.06.94zm-11 1L8.5 8.5l.94-2.06 2.06-.94-2.06-.94L8.5 2.5l-.94 2.06-2.06.94zm10 10l.94 2.06.94-2.06 2.06-.94-2.06-.94-.94-2.06-.94 2.06-2.06.94z\"/><path d=\"M17.41 7.96l-1.37-1.37c-.4-.4-.92-.59-1.43-.59-.52 0-1.04.2-1.43.59L10.3 9.45l-7.72 7.72c-.78.78-.78 2.05 0 2.83L4 21.41c.39.39.9.59 1.41.59.51 0 1.02-.2 1.41-.59l7.78-7.78 2.81-2.81c.8-.78.8-2.07 0-2.86zM5.41 20L4 18.59l7.72-7.72 1.47 1.35L5.41 20z\"/>\n",
              "  </svg>\n",
              "      </button>\n",
              "      \n",
              "  <style>\n",
              "    .colab-df-container {\n",
              "      display:flex;\n",
              "      flex-wrap:wrap;\n",
              "      gap: 12px;\n",
              "    }\n",
              "\n",
              "    .colab-df-convert {\n",
              "      background-color: #E8F0FE;\n",
              "      border: none;\n",
              "      border-radius: 50%;\n",
              "      cursor: pointer;\n",
              "      display: none;\n",
              "      fill: #1967D2;\n",
              "      height: 32px;\n",
              "      padding: 0 0 0 0;\n",
              "      width: 32px;\n",
              "    }\n",
              "\n",
              "    .colab-df-convert:hover {\n",
              "      background-color: #E2EBFA;\n",
              "      box-shadow: 0px 1px 2px rgba(60, 64, 67, 0.3), 0px 1px 3px 1px rgba(60, 64, 67, 0.15);\n",
              "      fill: #174EA6;\n",
              "    }\n",
              "\n",
              "    [theme=dark] .colab-df-convert {\n",
              "      background-color: #3B4455;\n",
              "      fill: #D2E3FC;\n",
              "    }\n",
              "\n",
              "    [theme=dark] .colab-df-convert:hover {\n",
              "      background-color: #434B5C;\n",
              "      box-shadow: 0px 1px 3px 1px rgba(0, 0, 0, 0.15);\n",
              "      filter: drop-shadow(0px 1px 2px rgba(0, 0, 0, 0.3));\n",
              "      fill: #FFFFFF;\n",
              "    }\n",
              "  </style>\n",
              "\n",
              "      <script>\n",
              "        const buttonEl =\n",
              "          document.querySelector('#df-441ac1ac-1847-4460-8cff-dcf91b598339 button.colab-df-convert');\n",
              "        buttonEl.style.display =\n",
              "          google.colab.kernel.accessAllowed ? 'block' : 'none';\n",
              "\n",
              "        async function convertToInteractive(key) {\n",
              "          const element = document.querySelector('#df-441ac1ac-1847-4460-8cff-dcf91b598339');\n",
              "          const dataTable =\n",
              "            await google.colab.kernel.invokeFunction('convertToInteractive',\n",
              "                                                     [key], {});\n",
              "          if (!dataTable) return;\n",
              "\n",
              "          const docLinkHtml = 'Like what you see? Visit the ' +\n",
              "            '<a target=\"_blank\" href=https://colab.research.google.com/notebooks/data_table.ipynb>data table notebook</a>'\n",
              "            + ' to learn more about interactive tables.';\n",
              "          element.innerHTML = '';\n",
              "          dataTable['output_type'] = 'display_data';\n",
              "          await google.colab.output.renderOutput(dataTable, element);\n",
              "          const docLink = document.createElement('div');\n",
              "          docLink.innerHTML = docLinkHtml;\n",
              "          element.appendChild(docLink);\n",
              "        }\n",
              "      </script>\n",
              "    </div>\n",
              "  </div>\n",
              "  "
            ]
          },
          "metadata": {},
          "execution_count": 377
        }
      ]
    },
    {
      "cell_type": "code",
      "source": [
        "ctab.isnull().sum()"
      ],
      "metadata": {
        "colab": {
          "base_uri": "https://localhost:8080/"
        },
        "id": "d-OSt443S8hH",
        "outputId": "20c76ac8-168a-492d-dd44-177cbbcd4794"
      },
      "execution_count": 378,
      "outputs": [
        {
          "output_type": "execute_result",
          "data": {
            "text/plain": [
              "row_id      0\n",
              "date        0\n",
              "country     0\n",
              "store       0\n",
              "product     0\n",
              "num_sold    0\n",
              "dtype: int64"
            ]
          },
          "metadata": {},
          "execution_count": 378
        }
      ]
    },
    {
      "cell_type": "code",
      "source": [
        "ctab.duplicated().sum()"
      ],
      "metadata": {
        "colab": {
          "base_uri": "https://localhost:8080/"
        },
        "id": "2k4JrQx7VKF2",
        "outputId": "4801ba9b-056a-40ea-d292-cd2d263f68f5"
      },
      "execution_count": 379,
      "outputs": [
        {
          "output_type": "execute_result",
          "data": {
            "text/plain": [
              "0"
            ]
          },
          "metadata": {},
          "execution_count": 379
        }
      ]
    },
    {
      "cell_type": "code",
      "source": [
        "plt.figure(figsize=(15,7))\n",
        "graph=ctab.groupby(ctab[\"date\"].dt.year).row_id.count().plot(kind=\"bar\")\n",
        "for i in graph.containers:\n",
        "    graph.bar_label(i,)"
      ],
      "metadata": {
        "colab": {
          "base_uri": "https://localhost:8080/",
          "height": 458
        },
        "id": "UQRuFDg4OhaI",
        "outputId": "7cf82819-b043-4b75-99d1-0c394fc2e646"
      },
      "execution_count": 380,
      "outputs": [
        {
          "output_type": "display_data",
          "data": {
            "text/plain": [
              "<Figure size 1080x504 with 1 Axes>"
            ],
            "image/png": "[encoded data removed]"
          },
          "metadata": {
            "needs_background": "light"
          }
        }
      ]
    },
    {
      "cell_type": "code",
      "source": [
        "fig, axes = plt.subplots(2, 2,figsize=(20,10))\n",
        "plt.text(x=0.5, y=0.94, s=\"Columns Distribution\", fontsize=18, ha=\"center\", transform=fig.transFigure)\n",
        "sns.countplot(x=ctab['store'],ax=axes[0,0])\n",
        "axes[0,0].set_title('Store Distribution')\n",
        "sns.countplot(x=ctab['country'],ax=axes[0,1])\n",
        "axes[0,1].set_title('Country Distribution')\n",
        "sns.countplot(x=ctab['product'],ax=axes[1,0])\n",
        "axes[1,0].set_title('Product Distribution')\n",
        "ctab.num_sold.hist(ax=axes[1,1])\n",
        "axes[1,1].set_title('Numbers Sold Distribution')"
      ],
      "metadata": {
        "colab": {
          "base_uri": "https://localhost:8080/",
          "height": 681
        },
        "id": "bC6Y2s5mUxUh",
        "outputId": "63a1ff0f-bc28-42e6-e7e4-6b28c5b29520"
      },
      "execution_count": 381,
      "outputs": [
        {
          "output_type": "execute_result",
          "data": {
            "text/plain": [
              "Text(0.5, 1.0, 'Numbers Sold Distribution')"
            ]
          },
          "metadata": {},
          "execution_count": 381
        },
        {
          "output_type": "display_data",
          "data": {
            "text/plain": [
              "<Figure size 1440x720 with 4 Axes>"
            ],
            "image/png": "[encoded data removed]"
          },
          "metadata": {
            "needs_background": "light"
          }
        }
      ]
    },
    {
      "cell_type": "code",
      "source": [
        "plt.figure(figsize=(15,7))\n",
        "ctab.groupby(ctab[\"date\"].dt.year).num_sold.sum().plot(kind='bar')"
      ],
      "metadata": {
        "colab": {
          "base_uri": "https://localhost:8080/",
          "height": 487
        },
        "id": "yiyEm_nEWHEJ",
        "outputId": "e58561b1-b40c-42fa-af69-2f3bb79d84e6"
      },
      "execution_count": 382,
      "outputs": [
        {
          "output_type": "execute_result",
          "data": {
            "text/plain": [
              "<AxesSubplot:xlabel='date'>"
            ]
          },
          "metadata": {},
          "execution_count": 382
        },
        {
          "output_type": "display_data",
          "data": {
            "text/plain": [
              "<Figure size 1080x504 with 1 Axes>"
            ],
            "image/png": "[encoded data removed]"
          },
          "metadata": {
            "needs_background": "light"
          }
        }
      ]
    },
    {
      "cell_type": "markdown",
      "source": [
        "for each product sales year month weekends momken"
      ],
      "metadata": {
        "id": "zyV3kmhvZkb_"
      }
    },
    {
      "cell_type": "code",
      "source": [
        "fig, axes = plt.subplots(2, 1,figsize=(20,10))\n",
        "sns.barplot(ax=axes[0],data=ctab, x=\"country\",y='num_sold',hue='product')\n",
        "axes[0].set_title('Numbers Sold in Countries based on Product')\n",
        "sns.barplot(ax=axes[1],data=ctab, x=\"country\",y='num_sold',hue='store')\n",
        "axes[1].set_title('Numbers Sold in Countries based on Store')\n"
      ],
      "metadata": {
        "colab": {
          "base_uri": "https://localhost:8080/",
          "height": 639
        },
        "id": "ag1RIfIiZNG8",
        "outputId": "75425849-ff1a-4578-abd6-42073e763329"
      },
      "execution_count": 383,
      "outputs": [
        {
          "output_type": "execute_result",
          "data": {
            "text/plain": [
              "Text(0.5, 1.0, 'Numbers Sold in Countries based on Store')"
            ]
          },
          "metadata": {},
          "execution_count": 383
        },
        {
          "output_type": "display_data",
          "data": {
            "text/plain": [
              "<Figure size 1440x720 with 2 Axes>"
            ],
            "image/png": "[encoded data removed]"
          },
          "metadata": {
            "needs_background": "light"
          }
        }
      ]
    },
    {
      "cell_type": "code",
      "source": [
        "import datetime as dt"
      ],
      "metadata": {
        "id": "-7Lxx-u_b3Dp"
      },
      "execution_count": 384,
      "outputs": []
    },
    {
      "cell_type": "code",
      "source": [
        "dayofweek=ctab[\"date\"].apply(lambda m : m.strftime('%A'))\n",
        "ctab['weekday']=dayofweek\n",
        "ctab[\"Month\"]=ctab[\"date\"].dt.month_name()\n",
        "ctab[\"Year\"]=ctab[\"date\"].dt.year"
      ],
      "metadata": {
        "id": "qXClP9FfcawU"
      },
      "execution_count": 385,
      "outputs": []
    },
    {
      "cell_type": "code",
      "source": [
        "ctab.info()"
      ],
      "metadata": {
        "colab": {
          "base_uri": "https://localhost:8080/"
        },
        "id": "--nGX6LDmRxt",
        "outputId": "94271e20-ca34-42d7-b2e0-85cc4abb0171"
      },
      "execution_count": 386,
      "outputs": [
        {
          "output_type": "stream",
          "name": "stdout",
          "text": [
            "<class 'pandas.core.frame.DataFrame'>\n",
            "RangeIndex: 65490 entries, 0 to 65489\n",
            "Data columns (total 9 columns):\n",
            " #   Column    Non-Null Count  Dtype         \n",
            "---  ------    --------------  -----         \n",
            " 0   row_id    65490 non-null  int64         \n",
            " 1   date      65490 non-null  datetime64[ns]\n",
            " 2   country   65490 non-null  object        \n",
            " 3   store     65490 non-null  object        \n",
            " 4   product   65490 non-null  object        \n",
            " 5   num_sold  65490 non-null  int64         \n",
            " 6   weekday   65490 non-null  object        \n",
            " 7   Month     65490 non-null  object        \n",
            " 8   Year      65490 non-null  int64         \n",
            "dtypes: datetime64[ns](1), int64(3), object(5)\n",
            "memory usage: 4.5+ MB\n"
          ]
        }
      ]
    },
    {
      "cell_type": "code",
      "source": [
        "fig, axes = plt.subplots(3, 1,figsize=(25,14))\n",
        "ctab.groupby('weekday').num_sold.sum().plot(title='Numbers Sold based on day of week',ax=axes[0])\n",
        "ctab.groupby('Month').num_sold.sum().plot(title='Numbers Sold based on Month',ax=axes[1])\n",
        "ctab.groupby('Year').num_sold.sum().plot(title='Numbers Sold based on Year',ax=axes[2])"
      ],
      "metadata": {
        "colab": {
          "base_uri": "https://localhost:8080/",
          "height": 857
        },
        "id": "G1e98c9lZ0rw",
        "outputId": "6bf13337-c864-475a-b55e-61f79f7e00d6"
      },
      "execution_count": 387,
      "outputs": [
        {
          "output_type": "execute_result",
          "data": {
            "text/plain": [
              "<AxesSubplot:title={'center':'Numbers Sold based on Year'}, xlabel='Year'>"
            ]
          },
          "metadata": {},
          "execution_count": 387
        },
        {
          "output_type": "display_data",
          "data": {
            "text/plain": [
              "<Figure size 1800x1008 with 3 Axes>"
            ],
            "image/png": "[encoded data removed]"
          },
          "metadata": {
            "needs_background": "light"
          }
        }
      ]
    },
    {
      "cell_type": "code",
      "source": [
        "ctab.groupby(['store','product']).num_sold.sum()"
      ],
      "metadata": {
        "colab": {
          "base_uri": "https://localhost:8080/"
        },
        "id": "gKRiLkVhf47X",
        "outputId": "5587eac4-0b81-41f8-91fb-463730b459e6"
      },
      "execution_count": 388,
      "outputs": [
        {
          "output_type": "execute_result",
          "data": {
            "text/plain": [
              "store       product                         \n",
              "KaggleMart  Kaggle Advanced Techniques          2706576\n",
              "            Kaggle Getting Started              2126233\n",
              "            Kaggle Recipe Book                  1595955\n",
              "            Kaggle for Kids: One Smart Goose    2884821\n",
              "KaggleRama  Kaggle Advanced Techniques           938698\n",
              "            Kaggle Getting Started               737194\n",
              "            Kaggle Recipe Book                   552602\n",
              "            Kaggle for Kids: One Smart Goose    1000704\n",
              "Name: num_sold, dtype: int64"
            ]
          },
          "metadata": {},
          "execution_count": 388
        }
      ]
    },
    {
      "cell_type": "markdown",
      "source": [
        "nedakhal el month w el year b priority le latest so l;abel encoding?"
      ],
      "metadata": {
        "id": "IUUBlTj8lw5C"
      }
    },
    {
      "cell_type": "code",
      "source": [
        "ctab_dummied=pd.get_dummies(ctab,drop_first=True)\n",
        "X=ctab_dummied.drop(['row_id','num_sold','date'],axis=1)\n",
        "y=ctab_dummied['num_sold']"
      ],
      "metadata": {
        "id": "p7p5x0kkko7P"
      },
      "execution_count": 389,
      "outputs": []
    },
    {
      "cell_type": "code",
      "source": [
        "from sklearn.linear_model import LinearRegression\n",
        "from sklearn import linear_model\n",
        "from sklearn.model_selection import train_test_split\n",
        "from sklearn.preprocessing import PolynomialFeatures\n",
        "from sklearn.tree import DecisionTreeRegressor\n",
        "from sklearn.ensemble import RandomForestRegressor\n",
        "from sklearn.metrics import mean_absolute_error\n",
        "from sklearn.metrics import mean_squared_error\n",
        "from sklearn.metrics import r2_score\n",
        "\n",
        "def smape(a, f):\n",
        "  return 1/len(a) * np.sum(2 * np.abs(f-a) / (np.abs(a) + np.abs(f))*100)\n",
        "\n",
        "def predictmodels(clf_A,clf_B,clf_C,X,y):\n",
        "  X_train, X_test, y_train, y_test = train_test_split(X, y, test_size = 0.2, random_state = 0)\n",
        "  print(\"Training set has {} samples.\".format(X_train.shape[0]))\n",
        "  print(\"Testing set has {} samples.\".format(X_test.shape[0]))\n",
        "  print()\n",
        "  results = {}\n",
        "  df = pd.DataFrame()\n",
        "  for clf in [clf_A, clf_B, clf_C]:\n",
        "      clf_name = clf.__class__.__name__\n",
        "      results[clf_name] = {}\n",
        "      results[clf_name] = \\\n",
        "      clf = clf.fit(X_train, y_train)\n",
        "      try:\n",
        "        predictions_test = clf.predict(X_test)\n",
        "      except:\n",
        "        predictions_test = clf_A.predict(X_test)\n",
        "\n",
        "      row={'SMAPE': smape(y_test,predictions_test)}\n",
        "      rows=[smape(y_test,predictions_test)]\n",
        "      d = {clf_name: row}\n",
        "      if df.empty:\n",
        "        df=pd.DataFrame(data=d)\n",
        "      else:\n",
        "        df[clf_name]=rows\n",
        "  return df"
      ],
      "metadata": {
        "id": "Pz6ZtborlQkN"
      },
      "execution_count": 390,
      "outputs": []
    },
    {
      "cell_type": "code",
      "source": [
        "predictmodels(LinearRegression(),linear_model.Lasso(random_state=3),PolynomialFeatures(),X,y)"
      ],
      "metadata": {
        "colab": {
          "base_uri": "https://localhost:8080/",
          "height": 136
        },
        "id": "zV_8rIs9lecd",
        "outputId": "10fc6738-e1ae-4c3a-cf0a-1435aeae0eed"
      },
      "execution_count": 391,
      "outputs": [
        {
          "output_type": "stream",
          "name": "stdout",
          "text": [
            "Training set has 52392 samples.\n",
            "Testing set has 13098 samples.\n",
            "\n"
          ]
        },
        {
          "output_type": "execute_result",
          "data": {
            "text/plain": [
              "       LinearRegression      Lasso  PolynomialFeatures\n",
              "SMAPE         31.680651  28.871508           31.680651"
            ],
            "text/html": [
              "\n",
              "  <div id=\"df-c56cbcec-4f9e-4e40-9cd1-70d6ad14db81\">\n",
              "    <div class=\"colab-df-container\">\n",
              "      <div>\n",
              "<style scoped>\n",
              "    .dataframe tbody tr th:only-of-type {\n",
              "        vertical-align: middle;\n",
              "    }\n",
              "\n",
              "    .dataframe tbody tr th {\n",
              "        vertical-align: top;\n",
              "    }\n",
              "\n",
              "    .dataframe thead th {\n",
              "        text-align: right;\n",
              "    }\n",
              "</style>\n",
              "<table border=\"1\" class=\"dataframe\">\n",
              "  <thead>\n",
              "    <tr style=\"text-align: right;\">\n",
              "      <th></th>\n",
              "      <th>LinearRegression</th>\n",
              "      <th>Lasso</th>\n",
              "      <th>PolynomialFeatures</th>\n",
              "    </tr>\n",
              "  </thead>\n",
              "  <tbody>\n",
              "    <tr>\n",
              "      <th>SMAPE</th>\n",
              "      <td>31.680651</td>\n",
              "      <td>28.871508</td>\n",
              "      <td>31.680651</td>\n",
              "    </tr>\n",
              "  </tbody>\n",
              "</table>\n",
              "</div>\n",
              "      <button class=\"colab-df-convert\" onclick=\"convertToInteractive('df-c56cbcec-4f9e-4e40-9cd1-70d6ad14db81')\"\n",
              "              title=\"Convert this dataframe to an interactive table.\"\n",
              "              style=\"display:none;\">\n",
              "        \n",
              "  <svg xmlns=\"http://www.w3.org/2000/svg\" height=\"24px\"viewBox=\"0 0 24 24\"\n",
              "       width=\"24px\">\n",
              "    <path d=\"M0 0h24v24H0V0z\" fill=\"none\"/>\n",
              "    <path d=\"M18.56 5.44l.94 2.06.94-2.06 2.06-.94-2.06-.94-.94-2.06-.94 2.06-2.06.94zm-11 1L8.5 8.5l.94-2.06 2.06-.94-2.06-.94L8.5 2.5l-.94 2.06-2.06.94zm10 10l.94 2.06.94-2.06 2.06-.94-2.06-.94-.94-2.06-.94 2.06-2.06.94z\"/><path d=\"M17.41 7.96l-1.37-1.37c-.4-.4-.92-.59-1.43-.59-.52 0-1.04.2-1.43.59L10.3 9.45l-7.72 7.72c-.78.78-.78 2.05 0 2.83L4 21.41c.39.39.9.59 1.41.59.51 0 1.02-.2 1.41-.59l7.78-7.78 2.81-2.81c.8-.78.8-2.07 0-2.86zM5.41 20L4 18.59l7.72-7.72 1.47 1.35L5.41 20z\"/>\n",
              "  </svg>\n",
              "      </button>\n",
              "      \n",
              "  <style>\n",
              "    .colab-df-container {\n",
              "      display:flex;\n",
              "      flex-wrap:wrap;\n",
              "      gap: 12px;\n",
              "    }\n",
              "\n",
              "    .colab-df-convert {\n",
              "      background-color: #E8F0FE;\n",
              "      border: none;\n",
              "      border-radius: 50%;\n",
              "      cursor: pointer;\n",
              "      display: none;\n",
              "      fill: #1967D2;\n",
              "      height: 32px;\n",
              "      padding: 0 0 0 0;\n",
              "      width: 32px;\n",
              "    }\n",
              "\n",
              "    .colab-df-convert:hover {\n",
              "      background-color: #E2EBFA;\n",
              "      box-shadow: 0px 1px 2px rgba(60, 64, 67, 0.3), 0px 1px 3px 1px rgba(60, 64, 67, 0.15);\n",
              "      fill: #174EA6;\n",
              "    }\n",
              "\n",
              "    [theme=dark] .colab-df-convert {\n",
              "      background-color: #3B4455;\n",
              "      fill: #D2E3FC;\n",
              "    }\n",
              "\n",
              "    [theme=dark] .colab-df-convert:hover {\n",
              "      background-color: #434B5C;\n",
              "      box-shadow: 0px 1px 3px 1px rgba(0, 0, 0, 0.15);\n",
              "      filter: drop-shadow(0px 1px 2px rgba(0, 0, 0, 0.3));\n",
              "      fill: #FFFFFF;\n",
              "    }\n",
              "  </style>\n",
              "\n",
              "      <script>\n",
              "        const buttonEl =\n",
              "          document.querySelector('#df-c56cbcec-4f9e-4e40-9cd1-70d6ad14db81 button.colab-df-convert');\n",
              "        buttonEl.style.display =\n",
              "          google.colab.kernel.accessAllowed ? 'block' : 'none';\n",
              "\n",
              "        async function convertToInteractive(key) {\n",
              "          const element = document.querySelector('#df-c56cbcec-4f9e-4e40-9cd1-70d6ad14db81');\n",
              "          const dataTable =\n",
              "            await google.colab.kernel.invokeFunction('convertToInteractive',\n",
              "                                                     [key], {});\n",
              "          if (!dataTable) return;\n",
              "\n",
              "          const docLinkHtml = 'Like what you see? Visit the ' +\n",
              "            '<a target=\"_blank\" href=https://colab.research.google.com/notebooks/data_table.ipynb>data table notebook</a>'\n",
              "            + ' to learn more about interactive tables.';\n",
              "          element.innerHTML = '';\n",
              "          dataTable['output_type'] = 'display_data';\n",
              "          await google.colab.output.renderOutput(dataTable, element);\n",
              "          const docLink = document.createElement('div');\n",
              "          docLink.innerHTML = docLinkHtml;\n",
              "          element.appendChild(docLink);\n",
              "        }\n",
              "      </script>\n",
              "    </div>\n",
              "  </div>\n",
              "  "
            ]
          },
          "metadata": {},
          "execution_count": 391
        }
      ]
    },
    {
      "cell_type": "code",
      "source": [
        "predictmodels(DecisionTreeRegressor(random_state=3),RandomForestRegressor(random_state=3),linear_model.BayesianRidge(),X,y)"
      ],
      "metadata": {
        "colab": {
          "base_uri": "https://localhost:8080/",
          "height": 136
        },
        "id": "ZCTbEJhLr_Zn",
        "outputId": "d3dfbfd1-8c09-4b42-d04d-d8f67457db4e"
      },
      "execution_count": 392,
      "outputs": [
        {
          "output_type": "stream",
          "name": "stdout",
          "text": [
            "Training set has 52392 samples.\n",
            "Testing set has 13098 samples.\n",
            "\n"
          ]
        },
        {
          "output_type": "execute_result",
          "data": {
            "text/plain": [
              "       DecisionTreeRegressor  RandomForestRegressor  BayesianRidge\n",
              "SMAPE               7.418422               7.216796      31.674698"
            ],
            "text/html": [
              "\n",
              "  <div id=\"df-8184e914-374a-4b07-a220-d93c5309a158\">\n",
              "    <div class=\"colab-df-container\">\n",
              "      <div>\n",
              "<style scoped>\n",
              "    .dataframe tbody tr th:only-of-type {\n",
              "        vertical-align: middle;\n",
              "    }\n",
              "\n",
              "    .dataframe tbody tr th {\n",
              "        vertical-align: top;\n",
              "    }\n",
              "\n",
              "    .dataframe thead th {\n",
              "        text-align: right;\n",
              "    }\n",
              "</style>\n",
              "<table border=\"1\" class=\"dataframe\">\n",
              "  <thead>\n",
              "    <tr style=\"text-align: right;\">\n",
              "      <th></th>\n",
              "      <th>DecisionTreeRegressor</th>\n",
              "      <th>RandomForestRegressor</th>\n",
              "      <th>BayesianRidge</th>\n",
              "    </tr>\n",
              "  </thead>\n",
              "  <tbody>\n",
              "    <tr>\n",
              "      <th>SMAPE</th>\n",
              "      <td>7.418422</td>\n",
              "      <td>7.216796</td>\n",
              "      <td>31.674698</td>\n",
              "    </tr>\n",
              "  </tbody>\n",
              "</table>\n",
              "</div>\n",
              "      <button class=\"colab-df-convert\" onclick=\"convertToInteractive('df-8184e914-374a-4b07-a220-d93c5309a158')\"\n",
              "              title=\"Convert this dataframe to an interactive table.\"\n",
              "              style=\"display:none;\">\n",
              "        \n",
              "  <svg xmlns=\"http://www.w3.org/2000/svg\" height=\"24px\"viewBox=\"0 0 24 24\"\n",
              "       width=\"24px\">\n",
              "    <path d=\"M0 0h24v24H0V0z\" fill=\"none\"/>\n",
              "    <path d=\"M18.56 5.44l.94 2.06.94-2.06 2.06-.94-2.06-.94-.94-2.06-.94 2.06-2.06.94zm-11 1L8.5 8.5l.94-2.06 2.06-.94-2.06-.94L8.5 2.5l-.94 2.06-2.06.94zm10 10l.94 2.06.94-2.06 2.06-.94-2.06-.94-.94-2.06-.94 2.06-2.06.94z\"/><path d=\"M17.41 7.96l-1.37-1.37c-.4-.4-.92-.59-1.43-.59-.52 0-1.04.2-1.43.59L10.3 9.45l-7.72 7.72c-.78.78-.78 2.05 0 2.83L4 21.41c.39.39.9.59 1.41.59.51 0 1.02-.2 1.41-.59l7.78-7.78 2.81-2.81c.8-.78.8-2.07 0-2.86zM5.41 20L4 18.59l7.72-7.72 1.47 1.35L5.41 20z\"/>\n",
              "  </svg>\n",
              "      </button>\n",
              "      \n",
              "  <style>\n",
              "    .colab-df-container {\n",
              "      display:flex;\n",
              "      flex-wrap:wrap;\n",
              "      gap: 12px;\n",
              "    }\n",
              "\n",
              "    .colab-df-convert {\n",
              "      background-color: #E8F0FE;\n",
              "      border: none;\n",
              "      border-radius: 50%;\n",
              "      cursor: pointer;\n",
              "      display: none;\n",
              "      fill: #1967D2;\n",
              "      height: 32px;\n",
              "      padding: 0 0 0 0;\n",
              "      width: 32px;\n",
              "    }\n",
              "\n",
              "    .colab-df-convert:hover {\n",
              "      background-color: #E2EBFA;\n",
              "      box-shadow: 0px 1px 2px rgba(60, 64, 67, 0.3), 0px 1px 3px 1px rgba(60, 64, 67, 0.15);\n",
              "      fill: #174EA6;\n",
              "    }\n",
              "\n",
              "    [theme=dark] .colab-df-convert {\n",
              "      background-color: #3B4455;\n",
              "      fill: #D2E3FC;\n",
              "    }\n",
              "\n",
              "    [theme=dark] .colab-df-convert:hover {\n",
              "      background-color: #434B5C;\n",
              "      box-shadow: 0px 1px 3px 1px rgba(0, 0, 0, 0.15);\n",
              "      filter: drop-shadow(0px 1px 2px rgba(0, 0, 0, 0.3));\n",
              "      fill: #FFFFFF;\n",
              "    }\n",
              "  </style>\n",
              "\n",
              "      <script>\n",
              "        const buttonEl =\n",
              "          document.querySelector('#df-8184e914-374a-4b07-a220-d93c5309a158 button.colab-df-convert');\n",
              "        buttonEl.style.display =\n",
              "          google.colab.kernel.accessAllowed ? 'block' : 'none';\n",
              "\n",
              "        async function convertToInteractive(key) {\n",
              "          const element = document.querySelector('#df-8184e914-374a-4b07-a220-d93c5309a158');\n",
              "          const dataTable =\n",
              "            await google.colab.kernel.invokeFunction('convertToInteractive',\n",
              "                                                     [key], {});\n",
              "          if (!dataTable) return;\n",
              "\n",
              "          const docLinkHtml = 'Like what you see? Visit the ' +\n",
              "            '<a target=\"_blank\" href=https://colab.research.google.com/notebooks/data_table.ipynb>data table notebook</a>'\n",
              "            + ' to learn more about interactive tables.';\n",
              "          element.innerHTML = '';\n",
              "          dataTable['output_type'] = 'display_data';\n",
              "          await google.colab.output.renderOutput(dataTable, element);\n",
              "          const docLink = document.createElement('div');\n",
              "          docLink.innerHTML = docLinkHtml;\n",
              "          element.appendChild(docLink);\n",
              "        }\n",
              "      </script>\n",
              "    </div>\n",
              "  </div>\n",
              "  "
            ]
          },
          "metadata": {},
          "execution_count": 392
        }
      ]
    },
    {
      "cell_type": "code",
      "source": [
        "from sklearn.model_selection import GridSearchCV\n",
        "from sklearn.metrics import make_scorer\n",
        "from sklearn.model_selection import RandomizedSearchCV"
      ],
      "metadata": {
        "id": "KnIUFS0a2lFF"
      },
      "execution_count": 393,
      "outputs": []
    },
    {
      "cell_type": "code",
      "source": [
        "def Gridsrch(clf,X,y):\n",
        "  X_train, X_test, y_train, y_test = train_test_split(X, y, test_size = 0.2, random_state = 0)\n",
        "  parameters={'n_estimators':[80]}\n",
        "  scorer=make_scorer(smape)\n",
        "  grid_layout=RandomizedSearchCV(clf,parameters,scoring=scorer)\n",
        "\n",
        "  grid_fit=grid_layout.fit(X_train,y_train)\n",
        "\n",
        "  best_clf=grid_fit.best_estimator_\n",
        "\n",
        "  #predict using plane and optimized model\n",
        "  predictions=(clf.fit(X_train,y_train).predict(X_test))\n",
        "  best_predictions=best_clf.predict(X_test)\n",
        "  print(str(clf) +\" before Optimization: \" + str(smape(y_test,predictions)))\n",
        "  print(str(clf) +\" after Optimization: \" + str(smape(y_test,best_predictions)))\n",
        "  print(grid_fit.best_params_)\n",
        "  return grid_fit"
      ],
      "metadata": {
        "id": "W0wpnGW72QOm"
      },
      "execution_count": 396,
      "outputs": []
    },
    {
      "cell_type": "code",
      "source": [
        "grid_fit=Gridsrch(RandomForestRegressor(random_state=3),X,y)"
      ],
      "metadata": {
        "colab": {
          "base_uri": "https://localhost:8080/"
        },
        "id": "yepQItSw2Wzx",
        "outputId": "c241e092-50db-41be-97ec-325c19eae5d0"
      },
      "execution_count": 397,
      "outputs": [
        {
          "output_type": "stream",
          "name": "stderr",
          "text": [
            "/usr/local/lib/python3.7/dist-packages/sklearn/model_selection/_search.py:296: UserWarning: The total space of parameters 1 is smaller than n_iter=10. Running 1 iterations. For exhaustive searches, use GridSearchCV.\n",
            "  UserWarning,\n"
          ]
        },
        {
          "output_type": "stream",
          "name": "stdout",
          "text": [
            "RandomForestRegressor(random_state=3) before Optimization: 7.216795611754344\n",
            "RandomForestRegressor(random_state=3) after Optimization: 7.219905694988372\n",
            "{'n_estimators': 80}\n"
          ]
        }
      ]
    },
    {
      "cell_type": "code",
      "source": [
        "plt.figure(figsize=(15,7))\n",
        "feat_importances = pd.Series(grid_fit.best_estimator_.feature_importances_, index=X.columns)\n",
        "feat_importances.nlargest(10).plot(kind='barh')\n",
        "plt.xlabel(\"Random Forest Feature Importance\")"
      ],
      "metadata": {
        "colab": {
          "base_uri": "https://localhost:8080/",
          "height": 460
        },
        "id": "3xD_Zz4vPTiz",
        "outputId": "fd8e93c9-0c28-4e64-bb2a-133d63e38536"
      },
      "execution_count": 400,
      "outputs": [
        {
          "output_type": "execute_result",
          "data": {
            "text/plain": [
              "Text(0.5, 0, 'Random Forest Feature Importance')"
            ]
          },
          "metadata": {},
          "execution_count": 400
        },
        {
          "output_type": "display_data",
          "data": {
            "text/plain": [
              "<Figure size 1080x504 with 1 Axes>"
            ],
            "image/png": "[encoded data removed]"
          },
          "metadata": {
            "needs_background": "light"
          }
        }
      ]
    },
    {
      "cell_type": "code",
      "source": [
        "test=pd.read_csv('test.csv')"
      ],
      "metadata": {
        "id": "E_rEqN1YAUB3"
      },
      "execution_count": 401,
      "outputs": []
    },
    {
      "cell_type": "code",
      "source": [
        "test.shape"
      ],
      "metadata": {
        "colab": {
          "base_uri": "https://localhost:8080/"
        },
        "id": "ouNJOOfIMMJv",
        "outputId": "5ff45f7e-b505-4f48-8e55-0111047f1364"
      },
      "execution_count": 402,
      "outputs": [
        {
          "output_type": "execute_result",
          "data": {
            "text/plain": [
              "(17520, 5)"
            ]
          },
          "metadata": {},
          "execution_count": 402
        }
      ]
    },
    {
      "cell_type": "code",
      "source": [
        "c_test=test.copy()\n",
        "c_test=c_test.replace('Belg', 'Belgium')"
      ],
      "metadata": {
        "id": "mgYdK_oJA-CQ"
      },
      "execution_count": 403,
      "outputs": []
    },
    {
      "cell_type": "code",
      "source": [
        "c_test=c_test.dropna(axis=0)"
      ],
      "metadata": {
        "id": "SVNA2yeeAlR_"
      },
      "execution_count": 404,
      "outputs": []
    },
    {
      "cell_type": "code",
      "source": [
        "c_test['date']=pd.to_datetime(c_test['date'], utc=False)\n",
        "dayofweek=c_test[\"date\"].apply(lambda m : m.strftime('%A'))\n",
        "c_test['weekday']=dayofweek\n",
        "c_test[\"Month\"]=c_test[\"date\"].dt.month_name()\n",
        "c_test[\"Year\"]=c_test[\"date\"].dt.year"
      ],
      "metadata": {
        "id": "yBofwd69BfRG"
      },
      "execution_count": 405,
      "outputs": []
    },
    {
      "cell_type": "code",
      "source": [
        "c_test=pd.get_dummies(c_test,drop_first=True)\n",
        "X_pred=c_test.drop(['row_id','date'],axis=1)"
      ],
      "metadata": {
        "id": "h3xOQ_O_3DPi"
      },
      "execution_count": 406,
      "outputs": []
    },
    {
      "cell_type": "code",
      "source": [
        "X_pred.columns.difference(X.columns)"
      ],
      "metadata": {
        "colab": {
          "base_uri": "https://localhost:8080/"
        },
        "id": "1wVO7JrVDXHD",
        "outputId": "539e0b4f-5472-491c-e4a6-33b372e47d76"
      },
      "execution_count": 407,
      "outputs": [
        {
          "output_type": "execute_result",
          "data": {
            "text/plain": [
              "Index([], dtype='object')"
            ]
          },
          "metadata": {},
          "execution_count": 407
        }
      ]
    },
    {
      "cell_type": "code",
      "source": [
        "fitted_model=grid_fit.best_estimator_.fit(X,y)"
      ],
      "metadata": {
        "id": "fhCpjrPoAM2J"
      },
      "execution_count": 409,
      "outputs": []
    },
    {
      "cell_type": "code",
      "source": [
        "predictions=fitted_model.predict(X_pred)"
      ],
      "metadata": {
        "id": "cOyI3ozTAO4N"
      },
      "execution_count": 410,
      "outputs": []
    },
    {
      "cell_type": "code",
      "source": [
        "res=pd.DataFrame(predictions.astype(int),columns=['num_sold']).reset_index()"
      ],
      "metadata": {
        "id": "j0duUgkDIyQp"
      },
      "execution_count": 411,
      "outputs": []
    },
    {
      "cell_type": "code",
      "source": [
        "res.insert(0, 'row_id', res['index'])\n",
        "res=res.drop('index',axis=1)"
      ],
      "metadata": {
        "id": "LSokJhYDKNTk"
      },
      "execution_count": 412,
      "outputs": []
    },
    {
      "cell_type": "code",
      "source": [
        "res['row_id']=res['row_id']+70128\n"
      ],
      "metadata": {
        "id": "Ae5qafeLLEtV"
      },
      "execution_count": 413,
      "outputs": []
    },
    {
      "cell_type": "code",
      "source": [
        "res.to_csv(\"submission.csv\", index=False)"
      ],
      "metadata": {
        "id": "oRcda_dyLQSy"
      },
      "execution_count": 414,
      "outputs": []
    }
  ]
}